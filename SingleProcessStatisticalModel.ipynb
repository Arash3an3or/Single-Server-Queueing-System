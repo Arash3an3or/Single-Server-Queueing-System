{
 "cells": [
  {
   "cell_type": "markdown",
   "metadata": {},
   "source": [
    "The main task of these experiments\n",
    "is to provide an experimental proof of the Central\n",
    "Limit Theorem. These models and experiments with\n",
    "such models also enhance the learner’s understanding\n",
    "of pseudo- and quasi-random number generators and\n",
    "the exponential distribution. That could provide basic\n",
    "ideas for more advanced experiments with the model\n",
    "of queueing systems.\n",
    "\n",
    "link: http://downloads.hindawi.com/journals/sp/2014/164306.pdf"
   ]
  },
  {
   "cell_type": "markdown",
   "metadata": {},
   "source": [
    "For example $random.randint(a, b)$ returns a random integer $N$\n",
    "such that $a <= N <= b$ and $random.expovariate(lambd)$\n",
    "returns exponentially distributed random numbers with\n",
    "the parameter ‘lambd’"
   ]
  },
  {
   "cell_type": "markdown",
   "metadata": {},
   "source": [
    "### Queueing systems\n",
    "An overall\n",
    "queueing system could be characterized by three main\n",
    "components: the arrival process, the service mechanism and the queue discipline. Arrivals may come from\n",
    "one or several limited or unlimited sources.\n",
    "The arrival process describes how customers arrive\n",
    "to the system. We denote by αi the interarrival time\n",
    "between the arrivals of the $(i−1)$ and ith customer, the\n",
    "expected inter-arrival time (or mean) by $E(α)$ and the\n",
    "arrival frequency by $λ = \\frac{1}{E(α)}$."
   ]
  },
  {
   "cell_type": "code",
   "execution_count": 3,
   "metadata": {
    "collapsed": true
   },
   "outputs": [
    {
     "name": "stderr",
     "output_type": "stream",
     "text": [
      "\"[alt\" ­Ґ пў«пҐвбп ў­гваҐ­­Ґ© Ё«Ё ў­Ґи­Ґ©\n",
      "Є®¬ ­¤®©, ЁбЇ®«­пҐ¬®© Їа®Ја ¬¬®© Ё«Ё Ї ЄҐв­л¬ д ©«®¬.\n"
     ]
    }
   ],
   "source": [
    "![alt text](https://github.com/iamilyasedunov/Single-Server-Queueing-System/images/The_simple_queueing_sys.png)"
   ]
  },
  {
   "cell_type": "code",
   "execution_count": 24,
   "metadata": {},
   "outputs": [
    {
     "name": "stdout",
     "output_type": "stream",
     "text": [
      "Step = 0\n",
      "Step = 1\n",
      "Step = 2\n",
      "Processing time: 0\n"
     ]
    }
   ],
   "source": [
    "import random\n",
    "import time\n",
    "import numpy as np\n",
    "import sys\n",
    "from numpy import linspace\n",
    "\n",
    "def corountine(func):\n",
    "    def start(*args, **kwargs):\n",
    "        g = func(*args, **kwargs)\n",
    "        g.__next__()\n",
    "        return g\n",
    "    return start\n",
    "\n",
    "def print_header():\n",
    "    \"Output results-header\"\n",
    "    f = open(\"out.txt\", \"w\")\n",
    "    f.write(\"%d\\n\" % N)\n",
    "    #number of points in printing templates\n",
    "    f.write(\"%d\\n\" % TMPN)\n",
    "    \n",
    "    for t in range(M):\n",
    "        f.write(\"%d%s\" % (glambda[t], \",\"))\n",
    "        \n",
    "    f.write(\"%d\\n\" % (glambda[M]))\n",
    "    f.close()\n",
    "\n",
    "def print_results(in_seq):\n",
    "    \"Output results\"\n",
    "    f = open(\"out.txt\", \"a\")\n",
    "    k = 0\n",
    "    for i in range(N - 2):\n",
    "        if in_seq[i].cid == template[k]:\n",
    "            f.write(\"%f%s\" % (in_seq[i].st, \",\"))\n",
    "            k += 1\n",
    "    f.write(\"%f\\n\" % (in_seq[N - 1].st))\n",
    "    f.close()\n",
    "    \n",
    "@corountine\n",
    "def server(i):\n",
    "    ST = 0                  #sojourn time for the previous client\n",
    "    item = None\n",
    "    while True:\n",
    "        item = (yield item) #get item\n",
    "        if item == None:\n",
    "            ST = 0\n",
    "            continue\n",
    "        waiting_time = max(0.0, ST - item.st - item.tau)\n",
    "        item.st += random.expovariate(glambda[i + 1]) + waiting_time\n",
    "        ST = item.st\n",
    "        \n",
    "def producer():\n",
    "    results = []\n",
    "    i = 0\n",
    "    while True:\n",
    "        if i == N: \n",
    "            break\n",
    "        c = Client(i, 0., 0.)\n",
    "        if i != 0:\n",
    "            c.tau = random.expovariate(glambda[0])\n",
    "        i += 1\n",
    "        for s in p:\n",
    "            c = s.send(c)\n",
    "        results += [c]\n",
    "    for s in p:\n",
    "        c = s.send(None)  #final signal\n",
    "    return results\n",
    "\n",
    "class Client(object):\n",
    "    def __init__(self, cid, st, tau):\n",
    "        self.cid = cid\n",
    "        self.st = st\n",
    "        self.tau = tau\n",
    "    def params(self):\n",
    "        return (self.cid, self.st, self.tau)\n",
    "    \n",
    "stt = time.time()\n",
    "\n",
    "N = 100         #Clients\n",
    "M = 2          #Servers\n",
    "\n",
    "#input/service frequency\n",
    "\n",
    "glambda = [30000] + [i for i in linspace(2500, 5000, M)]\n",
    "MKS = 3      #Monte Carlo simulation results\n",
    "\n",
    "##Number of points in the printing template\n",
    "TMPN = 10\n",
    "\n",
    "##printing template\n",
    "template = list(map(int, linspace(0, N - 1, TMPN)))\n",
    "\n",
    "print_header()\n",
    "\n",
    "p = []\n",
    "\n",
    "for i in range(M):\n",
    "    p += [server(i)]\n",
    "    \n",
    "for i in range(MKS):\n",
    "    print_header()\n",
    "    print_results(producer())\n",
    "    print(\"Step = %d\" % i)\n",
    "    \n",
    "sys.stdout.write(\"Processing time: %d\\n\" % int(time.time() - stt))\n",
    "            "
   ]
  },
  {
   "cell_type": "code",
   "execution_count": null,
   "metadata": {},
   "outputs": [],
   "source": []
  }
 ],
 "metadata": {
  "kernelspec": {
   "display_name": "Python 3",
   "language": "python",
   "name": "python3"
  },
  "language_info": {
   "codemirror_mode": {
    "name": "ipython",
    "version": 3
   },
   "file_extension": ".py",
   "mimetype": "text/x-python",
   "name": "python",
   "nbconvert_exporter": "python",
   "pygments_lexer": "ipython3",
   "version": "3.6.6"
  }
 },
 "nbformat": 4,
 "nbformat_minor": 2
}
